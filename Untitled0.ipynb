{
  "nbformat": 4,
  "nbformat_minor": 0,
  "metadata": {
    "colab": {
      "provenance": []
    },
    "kernelspec": {
      "name": "python3",
      "display_name": "Python 3"
    },
    "language_info": {
      "name": "python"
    }
  },
  "cells": [
    {
      "cell_type": "markdown",
      "source": [
        "#Libraries"
      ],
      "metadata": {
        "id": "jlAKWjlAUSx3"
      }
    },
    {
      "cell_type": "code",
      "execution_count": null,
      "metadata": {
        "id": "NZ3A-CjOK9_q"
      },
      "outputs": [],
      "source": [
        "!apt-get install tesseract-ocr\n",
        "!pip install pytesseract\n",
        "\n",
        "import cv2\n",
        "\n",
        "import matplotlib.pyplot as plt\n",
        "import numpy as np\n",
        "\n",
        "import pytesseract\n",
        "import re\n",
        "from PIL import Image\n",
        "import requests\n",
        "\n",
        "\n",
        "import json"
      ]
    },
    {
      "cell_type": "markdown",
      "source": [
        "#Load Image"
      ],
      "metadata": {
        "id": "PVHrwc6EUaVM"
      }
    },
    {
      "cell_type": "code",
      "source": [
        "image_url = \"https://pbs.twimg.com/media/FkcR718VEAAMEtL.jpg\"\n",
        "image = cv2.imread(image_url)"
      ],
      "metadata": {
        "id": "lWr1wfYdLwMe"
      },
      "execution_count": null,
      "outputs": []
    },
    {
      "cell_type": "code",
      "source": [
        "image_url = \"https://pbs.twimg.com/media/FkcR718VEAAMEtL.jpg:large\"\n",
        "image = Image.open(requests.get(image_url, stream=True).raw).convert('RGB')"
      ],
      "metadata": {
        "id": "nAlQgvZQNdNX"
      },
      "execution_count": null,
      "outputs": []
    },
    {
      "cell_type": "code",
      "source": [
        "print(image)"
      ],
      "metadata": {
        "colab": {
          "base_uri": "https://localhost:8080/"
        },
        "id": "CFOoo-xrNTZt",
        "outputId": "0274b340-634a-45b8-8f71-26a14326b9f7"
      },
      "execution_count": null,
      "outputs": [
        {
          "output_type": "stream",
          "name": "stdout",
          "text": [
            "<PIL.Image.Image image mode=RGB size=2048x1364 at 0x79368F599AB0>\n"
          ]
        }
      ]
    },
    {
      "cell_type": "markdown",
      "source": [
        "#Image Preprocessing"
      ],
      "metadata": {
        "id": "5E7vnzziUddF"
      }
    },
    {
      "cell_type": "code",
      "source": [
        "# Convert PIL Image to OpenCV format\n",
        "img_cv = cv2.cvtColor(np.array(image), cv2.COLOR_RGB2BGR)\n",
        "\n",
        "# Convert the image to grayscale\n",
        "gray = cv2.cvtColor(img_cv, cv2.COLOR_BGR2GRAY)\n",
        "\n",
        "# Apply GaussianBlur to reduce noise and improve OCR\n",
        "blur = cv2.GaussianBlur(gray, (5, 5), 0)\n",
        "\n",
        "# Apply adaptive thresholding to binarize the image\n",
        "thresh = cv2.adaptiveThreshold(blur, 255, cv2.ADAPTIVE_THRESH_GAUSSIAN_C, cv2.THRESH_BINARY_INV, 11, 2)"
      ],
      "metadata": {
        "id": "LbHV6sp2UoAx"
      },
      "execution_count": null,
      "outputs": []
    },
    {
      "cell_type": "code",
      "source": [
        "plt.imshow(gray, cmap='gray')\n",
        "plt.axis('off')\n",
        "plt.show()"
      ],
      "metadata": {
        "id": "quFY-GStVK2g"
      },
      "execution_count": null,
      "outputs": []
    },
    {
      "cell_type": "code",
      "source": [
        "# Perform OCR on the preprocessed image\n",
        "textb = pytesseract.image_to_string(blur, lang='eng+tha', config='--psm 6')\n",
        "textg = pytesseract.image_to_string(gray, lang='eng+tha', config='--psm 6')\n",
        "textt = pytesseract.image_to_string(thresh, lang='eng+tha', config='--psm 6')"
      ],
      "metadata": {
        "id": "RE_MT7b8VKzm"
      },
      "execution_count": null,
      "outputs": []
    },
    {
      "cell_type": "markdown",
      "source": [
        "#Text extraction"
      ],
      "metadata": {
        "id": "tNYslpjzUju8"
      }
    },
    {
      "cell_type": "code",
      "source": [
        "text = pytesseract.image_to_string(image, lang='eng', config='--psm 6')"
      ],
      "metadata": {
        "id": "Zp7XAVY3MeQo"
      },
      "execution_count": null,
      "outputs": []
    },
    {
      "cell_type": "code",
      "source": [
        "print(text)"
      ],
      "metadata": {
        "colab": {
          "base_uri": "https://localhost:8080/"
        },
        "id": "M8_vwhfFN6sO",
        "outputId": "7a6c937c-54ba-415f-c5b5-24705a016460"
      },
      "execution_count": null,
      "outputs": [
        {
          "output_type": "stream",
          "name": "stdout",
          "text": [
            "(,.) doalesdevsse19u Thai National ID Card\n",
            "anarrnn 4 1687 02071 81 1\n",
            "te VY A\n",
            "a= fotuardesna 1.4. — e198) :\n",
            "== Gam Name ‘Miss Nattarika '\n",
            "= § = lastname ~Yangsuai\n",
            "= =  ifintufl 25 Se. 2539\n",
            "=S= Date of Birth 25 Jun. 1996 160m 160\n",
            "=. 4 a 1 15 50\n",
            "== Ney 111/17 wifi 2 a.mauah auiesmyawys\n",
            "== can 2563 Sete, | ) Fi | - .\n",
            "== Sueanins {fl pn #4 8. 2572 |\n",
            "— LL ete _ aes\n",
            "— oe _awiinssaniins Dato of Exisy 1398-09-07241719 ,\n",
            "\f\n"
          ]
        }
      ]
    },
    {
      "cell_type": "code",
      "source": [
        "keywords = [\"name\", \"last_name\", \"date-of-birth\", \"date-of-issue\", \"date-of-expiry\"]"
      ],
      "metadata": {
        "id": "0uhAjjIlWf1C"
      },
      "execution_count": null,
      "outputs": []
    },
    {
      "cell_type": "code",
      "source": [
        "# Initialize dictionary to store extracted data\n",
        "ocr_data = {key: \"NaN\" for key in keywords}\n",
        "\n",
        "# Extract data based on case-insensitive keywords\n",
        "for key in keywords:\n",
        "    pattern = re.compile(fr'{key}.*?(\\S+)', re.IGNORECASE)\n",
        "    match = pattern.search(text)\n",
        "    if match:\n",
        "        ocr_data[key] = match.group(1)"
      ],
      "metadata": {
        "id": "kWTMTi8ER6pn"
      },
      "execution_count": null,
      "outputs": []
    },
    {
      "cell_type": "code",
      "source": [
        "print(ocr_data)"
      ],
      "metadata": {
        "colab": {
          "base_uri": "https://localhost:8080/"
        },
        "id": "j4AhtyWSR6lr",
        "outputId": "d041d18a-a31f-4d6c-c0fa-6f34460b970d"
      },
      "execution_count": null,
      "outputs": [
        {
          "output_type": "stream",
          "name": "stdout",
          "text": [
            "{'name': '‘Miss', 'last_name': 'NaN', 'date-of-birth': 'NaN', 'date-of-issue': 'NaN', 'date-of-expiry': 'NaN'}\n"
          ]
        }
      ]
    },
    {
      "cell_type": "code",
      "source": [],
      "metadata": {
        "id": "8i-SX1yIR6jq"
      },
      "execution_count": null,
      "outputs": []
    },
    {
      "cell_type": "code",
      "source": [],
      "metadata": {
        "id": "Ee-EciNjR6gv"
      },
      "execution_count": null,
      "outputs": []
    },
    {
      "cell_type": "code",
      "source": [],
      "metadata": {
        "id": "PiChQ6QdR6eb"
      },
      "execution_count": null,
      "outputs": []
    },
    {
      "cell_type": "code",
      "source": [
        "keywords = [\"Name\", \"lastname\", \"date-of-birth\", \"date-of-issue\", \"date-of-expiry\"]\n",
        "\n",
        "# Initialize dictionary to store extracted data\n",
        "ocr_data = {key: \"NaN\" for key in keywords}\n",
        "\n",
        "# Extract data based on keywords\n",
        "for key in keywords:\n",
        "    pattern = re.compile(fr'{key}.*?(\\S+)', re.IGNORECASE)\n",
        "    match = pattern.search(text)\n",
        "    if match:\n",
        "        ocr_data[key] = match.group(1)"
      ],
      "metadata": {
        "id": "8396bj6UQTCW"
      },
      "execution_count": null,
      "outputs": []
    },
    {
      "cell_type": "code",
      "source": [
        "print(ocr_data)"
      ],
      "metadata": {
        "colab": {
          "base_uri": "https://localhost:8080/"
        },
        "id": "pppAjwGjQTAe",
        "outputId": "d760c4ef-217b-436a-bf1e-79698eeead34"
      },
      "execution_count": null,
      "outputs": [
        {
          "output_type": "stream",
          "name": "stdout",
          "text": [
            "{'identification_number': 'NaN', 'Name': '‘Miss', 'lastname': '~Yangsuai', 'date-of-birth': 'NaN', 'date-of-issue': 'NaN', 'date-of-expiry': 'NaN'}\n"
          ]
        }
      ]
    },
    {
      "cell_type": "code",
      "source": [],
      "metadata": {
        "id": "wcNGNIjtQS9W"
      },
      "execution_count": null,
      "outputs": []
    },
    {
      "cell_type": "code",
      "source": [],
      "metadata": {
        "id": "-bCM0_DWQS7q"
      },
      "execution_count": null,
      "outputs": []
    },
    {
      "cell_type": "code",
      "source": [],
      "metadata": {
        "id": "qA7SbhQIQS4m"
      },
      "execution_count": null,
      "outputs": []
    },
    {
      "cell_type": "code",
      "source": [],
      "metadata": {
        "id": "6LYrXpHpQS2n"
      },
      "execution_count": null,
      "outputs": []
    },
    {
      "cell_type": "code",
      "source": [
        "english_name_pattern = re.compile(r'\\b[A-Za-z]+\\b')\n",
        "number_pattern = re.compile(r'\\b\\d+\\b')"
      ],
      "metadata": {
        "id": "-QdC7lwHOQVx"
      },
      "execution_count": null,
      "outputs": []
    },
    {
      "cell_type": "code",
      "source": [
        "\n",
        "# Extract English names and numbers\n",
        "english_names = english_name_pattern.findall(text)\n",
        "numbers = number_pattern.findall(text)"
      ],
      "metadata": {
        "id": "S_-3hFOROuWj"
      },
      "execution_count": null,
      "outputs": []
    },
    {
      "cell_type": "code",
      "source": [
        "ocr_data = {\n",
        "    \"english_names\": english_names,\n",
        "    \"numbers\": numbers\n",
        "}"
      ],
      "metadata": {
        "id": "Z9Xstt6UOhww"
      },
      "execution_count": null,
      "outputs": []
    },
    {
      "cell_type": "code",
      "source": [
        "print(english_names)"
      ],
      "metadata": {
        "id": "WF-_VM8IOn2r"
      },
      "execution_count": null,
      "outputs": []
    },
    {
      "cell_type": "code",
      "source": [
        "print(numbers)"
      ],
      "metadata": {
        "id": "Q8FbOvrKOx-H"
      },
      "execution_count": null,
      "outputs": []
    },
    {
      "cell_type": "code",
      "source": [
        "print(ocr_data)"
      ],
      "metadata": {
        "id": "p1lAdCgAO2cS"
      },
      "execution_count": null,
      "outputs": []
    },
    {
      "cell_type": "code",
      "source": [],
      "metadata": {
        "id": "J1oQ8beeO6uc"
      },
      "execution_count": null,
      "outputs": []
    }
  ]
}